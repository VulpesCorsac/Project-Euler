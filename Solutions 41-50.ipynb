{
 "cells": [
  {
   "cell_type": "markdown",
   "metadata": {},
   "source": [
    "## Problem 41 ##\n",
    "\n",
    "### Pandigital prime ###\n",
    "\n",
    "We shall say that an n-digit number is pandigital if it makes use of all the digits 1 to n exactly once. For example, 2143 is a 4-digit pandigital and is also prime.\n",
    "\n",
    "What is the largest n-digit pandigital prime that exists?"
   ]
  },
  {
   "cell_type": "code",
   "execution_count": 3,
   "metadata": {},
   "outputs": [
    {
     "name": "stdout",
     "output_type": "stream",
     "text": [
      "7652413\n"
     ]
    }
   ],
   "source": [
    "import itertools\n",
    "\n",
    "\n",
    "primes = [2]\n",
    "for num in range(3, 100000):\n",
    "    is_prime = True\n",
    "    for prime in primes:\n",
    "        if num % prime == 0:\n",
    "            is_prime = False\n",
    "            break\n",
    "    if is_prime:\n",
    "        primes.append(num)\n",
    "\n",
    "\n",
    "def isPrime(n):\n",
    "    if n < 2:\n",
    "        return False\n",
    "    for prime in primes:\n",
    "        if n % prime == 0:\n",
    "            return False\n",
    "        if prime**2 > n:\n",
    "            return True\n",
    "        \n",
    "\n",
    "ans = 0\n",
    "for n in range(2, 10):\n",
    "    all_permutations = list(itertools.permutations([str(i) for i in range(1, n)]))\n",
    "    for permutation in all_permutations:\n",
    "            num = int(''.join(permutation))\n",
    "            if isPrime(num):\n",
    "                ans = max(ans, num)\n",
    "print(ans)"
   ]
  },
  {
   "cell_type": "markdown",
   "metadata": {},
   "source": [
    "## Problem 42 ##\n",
    "\n",
    "### Coded triangle numbers ###\n",
    "\n",
    "The nth term of the sequence of triangle numbers is given by, tn = ½n(n+1); so the first ten triangle numbers are:\n",
    "\n",
    "$$ 1, 3, 6, 10, 15, 21, 28, 36, 45, 55, ... $$\n",
    "\n",
    "By converting each letter in a word to a number corresponding to its alphabetical position and adding these values we form a word value. For example, the word value for SKY is 19 + 11 + 25 = 55 = t10. If the word value is a triangle number then we shall call the word a triangle word.\n",
    "\n",
    "Using [words.txt](https://projecteuler.net/project/resources/p042_words.txt) (right click and 'Save Link/Target As...'), a 16K text file containing nearly two-thousand common English words, how many are triangle words?"
   ]
  },
  {
   "cell_type": "code",
   "execution_count": 10,
   "metadata": {},
   "outputs": [
    {
     "name": "stdout",
     "output_type": "stream",
     "text": [
      "162\n"
     ]
    }
   ],
   "source": [
    "def is_triangular_number(n):\n",
    "    temp = 0\n",
    "    for i in itertools.count():\n",
    "        temp += i\n",
    "        if n == temp:\n",
    "            return True\n",
    "        elif n < temp:\n",
    "            return False\n",
    "        \n",
    "\n",
    "with open(\"p042_words.txt\") as f:\n",
    "    words = f.readlines()[0].split(\"\\\",\\\"\")\n",
    "    words[ 0] = words[ 0][1:  ]\n",
    "    words[-1] = words[-1][ :-1]\n",
    "\n",
    "    \n",
    "ans = sum(1 for word in words if is_triangular_number(sum((ord(char) - ord('A') + 1) for char in word)))\n",
    "print(ans)"
   ]
  },
  {
   "cell_type": "markdown",
   "metadata": {},
   "source": [
    "## Problem 43 ##\n",
    "\n",
    "### Sub-string divisibility ###\n",
    "\n",
    "The number, 1406357289, is a 0 to 9 pandigital number because it is made up of each of the digits 0 to 9 in some order, but it also has a rather interesting sub-string divisibility property.\n",
    "\n",
    "Let d1 be the 1st digit, d2 be the 2nd digit, and so on. In this way, we note the following:\n",
    "\n",
    "* d2d3d4=406 is divisible by 2\n",
    "* d3d4d5=063 is divisible by 3\n",
    "* d4d5d6=635 is divisible by 5\n",
    "* d5d6d7=357 is divisible by 7\n",
    "* d6d7d8=572 is divisible by 11\n",
    "* d7d8d9=728 is divisible by 13\n",
    "* d8d9d10=289 is divisible by 17\n",
    "\n",
    "Find the sum of all 0 to 9 pandigital numbers with this property."
   ]
  },
  {
   "cell_type": "code",
   "execution_count": 19,
   "metadata": {},
   "outputs": [
    {
     "name": "stdout",
     "output_type": "stream",
     "text": [
      "16695334890\n"
     ]
    }
   ],
   "source": [
    "import itertools\n",
    "\n",
    "\n",
    "divisibility = [2, 3, 5, 7, 11, 13, 17]\n",
    "\n",
    "\n",
    "def is_substring_divisible(num):\n",
    "    return all(int(''.join(map(str, num[i+1:i+4]))) % p == 0 for (i, p) in enumerate(divisibility))\n",
    "\n",
    "\n",
    "ans = sum(int(''.join(map(str, num))) for num in itertools.permutations(list(range(10))) if is_substring_divisible(num))\n",
    "print(ans)"
   ]
  },
  {
   "cell_type": "markdown",
   "metadata": {},
   "source": [
    "## Problem 44 ##\n",
    "\n",
    "### Pentagon numbers ###\n",
    "\n",
    "Pentagonal numbers are generated by the formula, Pn=n(3n−1)/2. The first ten pentagonal numbers are:\n",
    "\n",
    "$$ 1, 5, 12, 22, 35, 51, 70, 92, 117, 145, ... $$\n",
    "\n",
    "It can be seen that P4 + P7 = 22 + 70 = 92 = P8. However, their difference, 70 − 22 = 48, is not pentagonal.\n",
    "\n",
    "Find the pair of pentagonal numbers, Pj and Pk, for which their sum and difference are pentagonal and D = |Pk − Pj| is minimised; what is the value of D?"
   ]
  },
  {
   "cell_type": "code",
   "execution_count": 24,
   "metadata": {},
   "outputs": [
    {
     "name": "stdout",
     "output_type": "stream",
     "text": [
      "5482660\n"
     ]
    }
   ],
   "source": [
    "import itertools\n",
    "\n",
    "\n",
    "class PentagonalNumber:\n",
    "    def __init__(self):\n",
    "        self.term_list = list()\n",
    "        self.term_set  = set()\n",
    "\n",
    "    \n",
    "    def term(self, x):\n",
    "        while len(self.term_list) <= x:\n",
    "            n = len(self.term_list)\n",
    "            term = (n * (n * 3 - 1)) // 2\n",
    "            self.term_list.append(term)\n",
    "            self.term_set.add(term)\n",
    "        \n",
    "        return self.term_list[x]\n",
    "\n",
    "    \n",
    "    def is_term(self, y):\n",
    "        while self.term_list[-1] < y:\n",
    "            n = len(self.term_list)\n",
    "            term = (n * (n * 3 - 1)) // 2\n",
    "            self.term_list.append(term)\n",
    "            self.term_set.add(term)\n",
    "        \n",
    "        return y in self.term_set\n",
    "\n",
    "\n",
    "pentanum = PentagonalNumber()\n",
    "ans = None\n",
    "for i in itertools.count(2):\n",
    "    term_i = pentanum.term(i)\n",
    "\n",
    "    if ans is not None and term_i - pentanum.term(i-1) >= ans:\n",
    "        break\n",
    "\n",
    "    for j in range(i-1, 0, -1):\n",
    "        term_j = pentanum.term(j)\n",
    "        diff = term_i - term_j\n",
    "        if ans is not None and diff >= ans:\n",
    "            break\n",
    "        elif pentanum.is_term(term_i + term_j) and pentanum.is_term(diff):\n",
    "            ans = diff\n",
    "\n",
    "print(ans)"
   ]
  },
  {
   "cell_type": "markdown",
   "metadata": {},
   "source": [
    "## Problem 45 ##\n",
    "\n",
    "### Triangular, pentagonal, and hexagonal ###\n",
    "\n",
    "Triangle, pentagonal, and hexagonal numbers are generated by the following formulae:\n",
    "\n",
    "```\n",
    "Triangle       Tn=n(n+1)/2     1, 3,  6, 10, 15, ...\n",
    "Pentagonal     Pn=n(3n−1)/2    1, 5, 12, 22, 35, ...\n",
    "Hexagonal      Hn=n(2n−1)      1, 6, 15, 28, 45, ...\n",
    "```\n",
    "\n",
    "It can be verified that T285 = P165 = H143 = 40755.\n",
    "\n",
    "Find the next triangle number that is also pentagonal and hexagonal."
   ]
  },
  {
   "cell_type": "code",
   "execution_count": 25,
   "metadata": {},
   "outputs": [
    {
     "name": "stdout",
     "output_type": "stream",
     "text": [
      "1533776805\n"
     ]
    }
   ],
   "source": [
    "i = 286\n",
    "j = 166\n",
    "k = 144\n",
    "\n",
    "\n",
    "while True:\n",
    "    triangle = i * (i + 1) // 2\n",
    "    pentagon = j * (j * 3 - 1) // 2\n",
    "    hexagon  = k * (k * 2 - 1)\n",
    "    \n",
    "    minimum = min(triangle, pentagon, hexagon)\n",
    "    if minimum == max(triangle, pentagon, hexagon):\n",
    "        ans = triangle\n",
    "        break\n",
    "    \n",
    "    if minimum == triangle: \n",
    "        i += 1\n",
    "    if minimum == pentagon:\n",
    "        j += 1\n",
    "    if minimum == hexagon :\n",
    "        k += 1\n",
    "\n",
    "        \n",
    "print(ans)"
   ]
  },
  {
   "cell_type": "markdown",
   "metadata": {},
   "source": [
    "## Problem 46 ##\n",
    "\n",
    "### Goldbach's other conjecture ###\n",
    "\n",
    "It was proposed by Christian Goldbach that every odd composite number can be written as the sum of a prime and twice a square.\n",
    "\n",
    "```\n",
    "9  =  7 + 2×1^2\n",
    "15 =  7 + 2×2^2\n",
    "21 =  3 + 2×3^2\n",
    "25 =  7 + 2×3^2\n",
    "27 = 19 + 2×2^2\n",
    "33 = 31 + 2×1^2\n",
    "```\n",
    "\n",
    "It turns out that the conjecture was false.\n",
    "\n",
    "What is the smallest odd composite that cannot be written as the sum of a prime and twice a square?"
   ]
  },
  {
   "cell_type": "code",
   "execution_count": 29,
   "metadata": {},
   "outputs": [
    {
     "name": "stdout",
     "output_type": "stream",
     "text": [
      "5777\n"
     ]
    }
   ],
   "source": [
    "import itertools\n",
    "\n",
    "\n",
    "primes = set([2])\n",
    "def is_prime(n):\n",
    "    if n < 2:\n",
    "        return False\n",
    "    if n in primes:\n",
    "        return True\n",
    "    for num in range(3, int(n**0.5) + 1, 2):\n",
    "        if n % num == 0:\n",
    "            return False\n",
    "    primes.add(n)\n",
    "    return True\n",
    "    \n",
    "\n",
    "def test_goldbach(n):\n",
    "    if n % 2 == 0 or is_prime(n):\n",
    "        return True\n",
    "    for i in itertools.count(1):\n",
    "        k = n - 2 * i * i\n",
    "        if k <= 0:\n",
    "            return False\n",
    "        elif is_prime(k):\n",
    "            return True\n",
    "\n",
    "\n",
    "ans = next(itertools.filterfalse(test_goldbach, itertools.count(9, 2)))\n",
    "print(ans)"
   ]
  },
  {
   "cell_type": "markdown",
   "metadata": {},
   "source": [
    "## Problem 47 ##\n",
    "\n",
    "### Distinct primes factors ###\n",
    "\n",
    "The first two consecutive numbers to have two distinct prime factors are:\n",
    "```\n",
    "14 = 2 × 7\n",
    "15 = 3 × 5\n",
    "```\n",
    "The first three consecutive numbers to have three distinct prime factors are:\n",
    "```\n",
    "644 = 2² × 7 × 23\n",
    "645 = 3 × 5 × 43\n",
    "646 = 2 × 17 × 19.\n",
    "```\n",
    "Find the first four consecutive integers to have four distinct prime factors each. What is the first of these numbers?"
   ]
  },
  {
   "cell_type": "code",
   "execution_count": 39,
   "metadata": {},
   "outputs": [
    {
     "name": "stdout",
     "output_type": "stream",
     "text": [
      "134043\n"
     ]
    }
   ],
   "source": [
    "import itertools\n",
    "from functools import lru_cache\n",
    "\n",
    "\n",
    "@lru_cache(None)\n",
    "def distinct_prime_factors(n):\n",
    "    count = 0\n",
    "    while n > 1:\n",
    "        count += 1\n",
    "        for i in range(2, int(n**0.5) + 1):\n",
    "            if n % i == 0:\n",
    "                while n % i == 0:\n",
    "                    n //= i\n",
    "                break\n",
    "        else:\n",
    "            break\n",
    "    return count\n",
    "\n",
    "\n",
    "ans = next(filter(lambda x: all((distinct_prime_factors(x + i) == 4) for i in range(4)), itertools.count()))\n",
    "print(ans)"
   ]
  },
  {
   "cell_type": "markdown",
   "metadata": {},
   "source": [
    "## Problem 48 ##\n",
    "\n",
    "### Self powers ###\n",
    "\n",
    "The series, 1^1 + 2^2 + 3^3 + ... + 10^10 = 10405071317.\n",
    "\n",
    "Find the last ten digits of the series, 1^1 + 2^2 + 3^3 + ... + 1000^1000."
   ]
  },
  {
   "cell_type": "code",
   "execution_count": 42,
   "metadata": {},
   "outputs": [
    {
     "name": "stdout",
     "output_type": "stream",
     "text": [
      "9110846700\n"
     ]
    }
   ],
   "source": [
    "MOD = 10**10\n",
    "ans = sum(pow(i, i, MOD) for i in range(1, 1001)) % MOD\n",
    "print(ans)"
   ]
  },
  {
   "cell_type": "markdown",
   "metadata": {},
   "source": [
    "## Problem 49 ##\n",
    "\n",
    "### Prime permutations ###\n",
    "\n",
    "The arithmetic sequence, 1487, 4817, 8147, in which each of the terms increases by 3330, is unusual in two ways: (i) each of the three terms are prime, and, (ii) each of the 4-digit numbers are permutations of one another.\n",
    "\n",
    "There are no arithmetic sequences made up of three 1-, 2-, or 3-digit primes, exhibiting this property, but there is one other 4-digit increasing sequence.\n",
    "\n",
    "What 12-digit number do you form by concatenating the three terms in this sequence?"
   ]
  },
  {
   "cell_type": "code",
   "execution_count": 73,
   "metadata": {},
   "outputs": [
    {
     "name": "stdout",
     "output_type": "stream",
     "text": [
      "296962999629\n"
     ]
    }
   ],
   "source": [
    "is_prime = [True] * 10000;\n",
    "is_prime[0] = is_prime[1] = False\n",
    "for i in range(len(is_prime)):\n",
    "    if is_prime[i]:\n",
    "        for j in range(i*i, len(is_prime), i):\n",
    "            is_prime[j] = False\n",
    "\n",
    "\n",
    "ans = []\n",
    "for a in range(0, 10):\n",
    "    for b in range(a, 10):\n",
    "        for c in range(b, 10):\n",
    "            for d in range(c, 10):\n",
    "                primes = set()\n",
    "                for num_list in list(itertools.permutations([a, b, c, d])):\n",
    "                    num = int(''.join(map(str, num_list)))\n",
    "                    \n",
    "                    if (num >= 1000):\n",
    "                        if is_prime[num]:\n",
    "                            primes.add(num)\n",
    "                        \n",
    "                if len(primes) > 2:\n",
    "                    primes = sorted(list(primes))\n",
    "                    for i in range(len(primes)):\n",
    "                        for j in range(i+1, len(primes)):\n",
    "                            for k in range(j+1, len(primes)):\n",
    "                                first  = primes[i]                        \n",
    "                                second = primes[j]\n",
    "                                third  = primes[k]\n",
    "                                    \n",
    "                                if third - second == second - first and first != 1487:\n",
    "                                    ans.append([first, second, third])\n",
    "                            \n",
    "                    \n",
    "print(''.join(map(str, ans[0])))"
   ]
  },
  {
   "cell_type": "markdown",
   "metadata": {},
   "source": [
    "## Problem 50 ##\n",
    "\n",
    "### Consecutive prime sum ###\n",
    "\n",
    "The prime 41, can be written as the sum of six consecutive primes:\n",
    "\n",
    "```\n",
    "41 = 2 + 3 + 5 + 7 + 11 + 13\n",
    "```\n",
    "\n",
    "This is the longest sum of consecutive primes that adds to a prime below one-hundred.\n",
    "\n",
    "The longest sum of consecutive primes below one-thousand that adds to a prime, contains 21 terms, and is equal to 953.\n",
    "\n",
    "Which prime, below one-million, can be written as the sum of the most consecutive primes?"
   ]
  },
  {
   "cell_type": "code",
   "execution_count": 85,
   "metadata": {},
   "outputs": [
    {
     "name": "stdout",
     "output_type": "stream",
     "text": [
      "997651\n"
     ]
    }
   ],
   "source": [
    "is_prime = [True] * 1000000;\n",
    "is_prime[0] = is_prime[1] = False\n",
    "for i in range(len(is_prime)):\n",
    "    if is_prime[i]:\n",
    "        for j in range(i*i, len(is_prime), i):\n",
    "            is_prime[j] = False\n",
    "primes = [i for i in range(len(is_prime)) if is_prime[i]]\n",
    "\n",
    "\n",
    "ans = 0\n",
    "consecutive = 0\n",
    "for i in range(len(primes)):\n",
    "    sum = primes[i]\n",
    "    current_consecutive = 1\n",
    "    for j in range(i+1, len(primes)):\n",
    "        sum += primes[j]\n",
    "        current_consecutive += 1\n",
    "        \n",
    "        if sum >= len(is_prime):\n",
    "            break\n",
    "        \n",
    "        if is_prime[sum] and current_consecutive > consecutive:\n",
    "            ans = sum\n",
    "            consecutive = current_consecutive\n",
    "\n",
    "print(ans)"
   ]
  }
 ],
 "metadata": {
  "kernelspec": {
   "display_name": "Python 3",
   "language": "python",
   "name": "python3"
  },
  "language_info": {
   "codemirror_mode": {
    "name": "ipython",
    "version": 3
   },
   "file_extension": ".py",
   "mimetype": "text/x-python",
   "name": "python",
   "nbconvert_exporter": "python",
   "pygments_lexer": "ipython3",
   "version": "3.7.3"
  }
 },
 "nbformat": 4,
 "nbformat_minor": 2
}
