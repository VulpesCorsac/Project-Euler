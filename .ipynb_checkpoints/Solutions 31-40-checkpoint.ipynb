{
 "cells": [
  {
   "cell_type": "markdown",
   "metadata": {},
   "source": [
    "## Problem 31 ##\n",
    "\n",
    "### Coin sums ###\n",
    "\n",
    "In the United Kingdom the currency is made up of pound (£) and pence (p). There are eight coins in general circulation:\n",
    "```\n",
    "1p, 2p, 5p, 10p, 20p, 50p, £1 (100p), and £2 (200p).\n",
    "```\n",
    "\n",
    "It is possible to make £2 in the following way:\n",
    "```\n",
    "1×£1 + 1×50p + 2×20p + 1×5p + 1×2p + 3×1p\n",
    "```\n",
    "How many different ways can £2 be made using any number of coins?"
   ]
  },
  {
   "cell_type": "code",
   "execution_count": 1,
   "metadata": {},
   "outputs": [
    {
     "name": "stdout",
     "output_type": "stream",
     "text": [
      "73682\n"
     ]
    }
   ],
   "source": [
    "total = 200\n",
    "\n",
    "\n",
    "ways = [1] + [0] * total\n",
    "for coin in [1, 2, 5, 10, 20, 50, 100, 200]:\n",
    "    for i in range(len(ways) - coin):\n",
    "        ways[i + coin] += ways[i]\n",
    "\n",
    "    \n",
    "print(ways[-1])"
   ]
  },
  {
   "cell_type": "markdown",
   "metadata": {},
   "source": [
    "## Problem 32 ##\n",
    "\n",
    "### Pandigital products ###\n",
    "\n",
    "We shall say that an n-digit number is pandigital if it makes use of all the digits 1 to n exactly once; for example, the 5-digit number, 15234, is 1 through 5 pandigital.\n",
    "\n",
    "The product 7254 is unusual, as the identity, 39 × 186 = 7254, containing multiplicand, multiplier, and product is 1 through 9 pandigital.\n",
    "\n",
    "Find the sum of all products whose multiplicand/multiplier/product identity can be written as a 1 through 9 pandigital.\n",
    "\n",
    "HINT: Some products can be obtained in more than one way so be sure to only include it once in your sum."
   ]
  },
  {
   "cell_type": "code",
   "execution_count": 2,
   "metadata": {},
   "outputs": [
    {
     "name": "stdout",
     "output_type": "stream",
     "text": [
      "45228\n"
     ]
    }
   ],
   "source": [
    "def has_pandigital_product(n):\n",
    "    for i in range(1, int(n**0.5) + 1):\n",
    "        if n % i == 0:\n",
    "            temp = str(n) + str(i) + str(n // i)\n",
    "            if \"\".join(sorted(temp)) == \"123456789\":\n",
    "                return True\n",
    "    return False\n",
    "\n",
    "\n",
    "print(sum(i \n",
    "          for i in range(1, 10000) \n",
    "          if has_pandigital_product(i)\n",
    "         )\n",
    "     )"
   ]
  },
  {
   "cell_type": "markdown",
   "metadata": {},
   "source": [
    "## Problem 33 ##\n",
    "\n",
    "### Digit cancelling fractions ###\n",
    "\n",
    "The fraction 49/98 is a curious fraction, as an inexperienced mathematician in attempting to simplify it may incorrectly believe that 49/98 = 4/8, which is correct, is obtained by cancelling the 9s.\n",
    "\n",
    "We shall consider fractions like, 30/50 = 3/5, to be trivial examples.\n",
    "\n",
    "There are exactly four non-trivial examples of this type of fraction, less than one in value, and containing two digits in the numerator and denominator.\n",
    "\n",
    "If the product of these four fractions is given in its lowest common terms, find the value of the denominator."
   ]
  },
  {
   "cell_type": "code",
   "execution_count": 5,
   "metadata": {},
   "outputs": [
    {
     "name": "stdout",
     "output_type": "stream",
     "text": [
      "100\n"
     ]
    }
   ],
   "source": [
    "from math import gcd\n",
    "\n",
    "\n",
    "numerators = 1\n",
    "denominators = 1\n",
    "for d in range(10, 100):\n",
    "    for n in range(10, d):\n",
    "        n0 = n % 10\n",
    "        n1 = n // 10\n",
    "        d0 = d % 10\n",
    "        d1 = d // 10\n",
    "        if (n1 == d0 and n0 * d == n * d1) or (n0 == d1 and n1 * d == n * d0):\n",
    "            numerators *= n\n",
    "            denominators *= d\n",
    "\n",
    "\n",
    "print(denominators // gcd(numerators, denominators))"
   ]
  },
  {
   "cell_type": "markdown",
   "metadata": {},
   "source": [
    "## Problem 34 ##\n",
    "\n",
    "### Digit factorials ###\n",
    "\n",
    "145 is a curious number, as 1! + 4! + 5! = 1 + 24 + 120 = 145.\n",
    "\n",
    "Find the sum of all numbers which are equal to the sum of the factorial of their digits.\n",
    "\n",
    "Note: as 1! = 1 and 2! = 2 are not sums they are not included."
   ]
  },
  {
   "cell_type": "code",
   "execution_count": 24,
   "metadata": {},
   "outputs": [
    {
     "name": "stdout",
     "output_type": "stream",
     "text": [
      "40730\n"
     ]
    }
   ],
   "source": [
    "from math import factorial\n",
    "\n",
    "\n",
    "def memorize(f):\n",
    "    cache = {}\n",
    "\n",
    "    def decorate(*args):\n",
    "        if args in cache:\n",
    "            return cache[args]\n",
    "        else:\n",
    "            cache[args] = f(*args)\n",
    "            return cache[args]\n",
    "    return decorate\n",
    "\n",
    "\n",
    "@memorize\n",
    "def factorial_digit_sum(n):\n",
    "    result = 0\n",
    "    if n > 0:\n",
    "        result += factorial(n % 10) + factorial_digit_sum(n // 10)\n",
    "    return result\n",
    "\n",
    "\n",
    "# numbers are: 145 and 40730\n",
    "print(sum(i \n",
    "          for i in range(3, 10000000) \n",
    "          if i == factorial_digit_sum(i)\n",
    "         )\n",
    "     )"
   ]
  },
  {
   "cell_type": "markdown",
   "metadata": {},
   "source": [
    "## Problem 35 ##\n",
    "\n",
    "### Circular primes ###\n",
    "\n",
    "The number, 197, is called a circular prime because all rotations of the digits: 197, 971, and 719, are themselves prime.\n",
    "\n",
    "There are thirteen such primes below 100: 2, 3, 5, 7, 11, 13, 17, 31, 37, 71, 73, 79, and 97.\n",
    "\n",
    "How many circular primes are there below one million?"
   ]
  },
  {
   "cell_type": "code",
   "execution_count": 41,
   "metadata": {},
   "outputs": [
    {
     "name": "stdout",
     "output_type": "stream",
     "text": [
      "55\n"
     ]
    }
   ],
   "source": [
    "def precalc_primes(limit=1000000):\n",
    "    primes = set()\n",
    "    \n",
    "    cross_limit = int(limit**0.5) + 1\n",
    "    sieve = [True] * limit\n",
    "    sieve[0] = sieve[1] = False\n",
    "    for i in range(4, limit, 2):\n",
    "        sieve[i] = False\n",
    "\n",
    "\n",
    "    for num in range(3, cross_limit, 2):\n",
    "        if sieve[num]:\n",
    "            for i in range(num**2, limit, 2*num):\n",
    "                sieve[i] = False\n",
    "    \n",
    "    for num in range(limit):\n",
    "        if (sieve[num]):\n",
    "            primes.add(num)\n",
    "\n",
    "    return primes\n",
    "\n",
    "\n",
    "primes = precalc_primes()\n",
    "\n",
    "\n",
    "def is_prime(n):\n",
    "    return n in primes\n",
    "\n",
    "\n",
    "def is_circular_prime(n):\n",
    "    s = str(n)\n",
    "    for i in range(len(s)):\n",
    "        if not is_prime(int(s[i:] + s[:i])):\n",
    "            return False\n",
    "    return True\n",
    "\n",
    "\n",
    "print(sum(1\n",
    "          for prime in primes\n",
    "          if is_circular_prime(prime)\n",
    "         )\n",
    "     )"
   ]
  },
  {
   "cell_type": "markdown",
   "metadata": {},
   "source": [
    "## Problem 36 ##\n",
    "\n",
    "### Double-base palindromes ###\n",
    "\n",
    "The decimal number, 585 = 1001001001 (binary), is palindromic in both bases.\n",
    "\n",
    "Find the sum of all numbers, less than one million, which are palindromic in base 10 and base 2.\n",
    "\n",
    "(Please note that the palindromic number, in either base, may not include leading zeros.)"
   ]
  },
  {
   "cell_type": "code",
   "execution_count": 47,
   "metadata": {},
   "outputs": [
    {
     "name": "stdout",
     "output_type": "stream",
     "text": [
      "872187\n"
     ]
    }
   ],
   "source": [
    "def is_decimal_binary_palindrome(n):\n",
    "    s = str(n)\n",
    "    if s != s[::-1]:\n",
    "        return False\n",
    "    t = bin(n)[2:]\n",
    "    return t == t[::-1]\n",
    "\n",
    "\n",
    "print(sum(i \n",
    "          for i in range(1000000) \n",
    "          if is_decimal_binary_palindrome(i)\n",
    "         )\n",
    "     )"
   ]
  },
  {
   "cell_type": "markdown",
   "metadata": {},
   "source": [
    "## Problem 37 ##\n",
    "\n",
    "### Truncatable primes ###\n",
    "\n",
    "The number 3797 has an interesting property. Being prime itself, it is possible to continuously remove digits from left to right, and remain prime at each stage: 3797, 797, 97, and 7. Similarly we can work from right to left: 3797, 379, 37, and 3.\n",
    "\n",
    "Find the sum of the only eleven primes that are both truncatable from left to right and right to left.\n",
    "\n",
    "NOTE: 2, 3, 5, and 7 are not considered to be truncatable primes."
   ]
  },
  {
   "cell_type": "code",
   "execution_count": 56,
   "metadata": {},
   "outputs": [
    {
     "name": "stdout",
     "output_type": "stream",
     "text": [
      "748317\n"
     ]
    }
   ],
   "source": [
    "def precalc_primes(limit=1000000):\n",
    "    primes = set()\n",
    "    \n",
    "    cross_limit = int(limit**0.5) + 1\n",
    "    sieve = [True] * limit\n",
    "    sieve[0] = sieve[1] = False\n",
    "    for i in range(4, limit, 2):\n",
    "        sieve[i] = False\n",
    "\n",
    "\n",
    "    for num in range(3, cross_limit, 2):\n",
    "        if sieve[num]:\n",
    "            for i in range(num**2, limit, 2*num):\n",
    "                sieve[i] = False\n",
    "    \n",
    "    for num in range(limit):\n",
    "        if (sieve[num]):\n",
    "            primes.add(num)\n",
    "\n",
    "    return primes\n",
    "\n",
    "\n",
    "primes = precalc_primes()\n",
    "\n",
    "\n",
    "def is_prime(n):\n",
    "    return n in primes\n",
    "\n",
    "\n",
    "def is_truncatable_prime(n):\n",
    "    i = 10\n",
    "    while i <= n:\n",
    "        if not is_prime(n % i):\n",
    "            return False\n",
    "        i *= 10\n",
    "\n",
    "    while n > 0:\n",
    "        if not is_prime(n):\n",
    "            return False\n",
    "        n //= 10\n",
    "        \n",
    "    return True\n",
    "\n",
    "\n",
    "# numbers are: 23 37 53 73 313 317 373 797 3137 3797 739397 \n",
    "print(sum(prime\n",
    "         for prime in primes\n",
    "         if prime > 10 and is_truncatable_prime(prime)))"
   ]
  },
  {
   "cell_type": "markdown",
   "metadata": {},
   "source": [
    "## Problem 38 ##\n",
    "\n",
    "### Pandigital multiples ###\n",
    "\n",
    "Take the number 192 and multiply it by each of 1, 2, and 3:\n",
    "\n",
    "```\n",
    "192 × 1 = 192\n",
    "192 × 2 = 384\n",
    "192 × 3 = 576\n",
    "```\n",
    "\n",
    "By concatenating each product we get the 1 to 9 pandigital, 192384576. We will call 192384576 the concatenated product of 192 and (1,2,3)\n",
    "\n",
    "The same can be achieved by starting with 9 and multiplying by 1, 2, 3, 4, and 5, giving the pandigital, 918273645, which is the concatenated product of 9 and (1,2,3,4,5).\n",
    "\n",
    "What is the largest 1 to 9 pandigital 9-digit number that can be formed as the concatenated product of an integer with (1,2, ... , n) where n > 1?"
   ]
  },
  {
   "cell_type": "code",
   "execution_count": 71,
   "metadata": {},
   "outputs": [
    {
     "name": "stdout",
     "output_type": "stream",
     "text": [
      "932718654\n"
     ]
    }
   ],
   "source": [
    "ans = \"\"\n",
    "\n",
    "\n",
    "for n in range(2, 10):\n",
    "    for i in range(1, 10 ** (10 // n)):\n",
    "        s = \"\".join(str(i*j) for j in range(1, n+1))\n",
    "        if \"\".join(sorted(s)) == \"123456789\":\n",
    "            ans = max(s, ans)\n",
    "\n",
    "            \n",
    "print(ans)"
   ]
  },
  {
   "cell_type": "markdown",
   "metadata": {},
   "source": [
    "## Problem 39 ##\n",
    "\n",
    "### Integer right triangles ###\n",
    "\n",
    "If p is the perimeter of a right angle triangle with integral length sides, {a,b,c}, there are exactly three solutions for p = 120.\n",
    "\n",
    "{20,48,52}, {24,45,51}, {30,40,50}\n",
    "\n",
    "For which value of p ≤ 1000, is the number of solutions maximised?"
   ]
  },
  {
   "cell_type": "code",
   "execution_count": 73,
   "metadata": {},
   "outputs": [
    {
     "name": "stdout",
     "output_type": "stream",
     "text": [
      "840\n"
     ]
    }
   ],
   "source": [
    "def count_solutions(p):\n",
    "    result = 0\n",
    "    for a in range(1, p + 1):\n",
    "        for b in range(a, (p - a) // 2 + 1):\n",
    "            c = p - a - b\n",
    "            if a * a + b * b == c * c:\n",
    "                result += 1\n",
    "    return result\n",
    "\n",
    "\n",
    "print(max(range(1, 1001), key=count_solutions))"
   ]
  },
  {
   "cell_type": "markdown",
   "metadata": {},
   "source": [
    "## Problem 40 ##\n",
    "\n",
    "### Champernowne's constant ###\n",
    "\n",
    "An irrational decimal fraction is created by concatenating the positive integers:\n",
    "\n",
    "```\n",
    "0.123456789101112131415161718192021...\n",
    "```\n",
    "\n",
    "It can be seen that the 12th digit of the fractional part is 1.\n",
    "\n",
    "If d(n) represents the nth digit of the fractional part, find the value of the following expression.\n",
    "\n",
    "d(1) × d(10) × d(100) × d(1000) × d(10000) × d(100000) × d(1000000)"
   ]
  },
  {
   "cell_type": "code",
   "execution_count": 75,
   "metadata": {},
   "outputs": [
    {
     "name": "stdout",
     "output_type": "stream",
     "text": [
      "210\n"
     ]
    }
   ],
   "source": [
    "s = \"\".join(str(i) for i in range(1, 1000000))\n",
    "ans = 1\n",
    "for i in range(7):\n",
    "    ans *= int(s[10**i - 1])\n",
    "\n",
    "print(ans)"
   ]
  }
 ],
 "metadata": {
  "kernelspec": {
   "display_name": "Python 3",
   "language": "python",
   "name": "python3"
  },
  "language_info": {
   "codemirror_mode": {
    "name": "ipython",
    "version": 3
   },
   "file_extension": ".py",
   "mimetype": "text/x-python",
   "name": "python",
   "nbconvert_exporter": "python",
   "pygments_lexer": "ipython3",
   "version": "3.7.1"
  }
 },
 "nbformat": 4,
 "nbformat_minor": 2
}
