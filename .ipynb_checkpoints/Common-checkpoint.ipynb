{
 "cells": [
  {
   "cell_type": "markdown",
   "metadata": {},
   "source": [
    "# Memorize decorator #"
   ]
  },
  {
   "cell_type": "code",
   "execution_count": 1,
   "metadata": {},
   "outputs": [],
   "source": [
    "def memorize(f):\n",
    "    cache = {}\n",
    "\n",
    "    def decorate(*args):\n",
    "        if args in cache:\n",
    "            return cache[args]\n",
    "        else:\n",
    "            cache[args] = f(*args)\n",
    "            return cache[args]\n",
    "    return decorate"
   ]
  },
  {
   "cell_type": "markdown",
   "metadata": {},
   "source": [
    "# Prime list #"
   ]
  },
  {
   "cell_type": "code",
   "execution_count": 5,
   "metadata": {},
   "outputs": [],
   "source": [
    "def precalc_primes(limit=10000000):\n",
    "    primes = set()\n",
    "    \n",
    "    cross_limit = int(limit**0.5) + 1\n",
    "    sieve = [True] * limit\n",
    "    sieve[0] = sieve[1] = False\n",
    "    for i in range(4, limit, 2):\n",
    "        sieve[i] = False\n",
    "\n",
    "\n",
    "    for num in range(3, cross_limit, 2):\n",
    "        if sieve[num]:\n",
    "            for i in range(num**2, limit, 2*num):\n",
    "                sieve[i] = False\n",
    "    \n",
    "    for num in range(limit):\n",
    "        if (sieve[num]):\n",
    "            primes.add(num)\n",
    "    \n",
    "    return primes"
   ]
  },
  {
   "cell_type": "markdown",
   "metadata": {},
   "source": [
    "# Is_prime with precalculated list #"
   ]
  },
  {
   "cell_type": "code",
   "execution_count": 3,
   "metadata": {},
   "outputs": [],
   "source": [
    "primes = set()\n",
    "max_prime_precalc = 0\n",
    "\n",
    "\n",
    "# 10000000 - 2.5s on my laptop\n",
    "def precalc_primes(limit=10000000):\n",
    "    cross_limit = int(limit**0.5) + 1\n",
    "    sieve = [True] * limit\n",
    "    sieve[0] = sieve[1] = False\n",
    "    for i in range(4, limit, 2):\n",
    "        sieve[i] = False\n",
    "\n",
    "\n",
    "    for num in range(3, cross_limit, 2):\n",
    "        if sieve[num]:\n",
    "            for i in range(num**2, limit, 2*num):\n",
    "                sieve[i] = False\n",
    "    \n",
    "    for num in range(limit):\n",
    "        if (sieve[num]):\n",
    "            primes.add(num)\n",
    "\n",
    "    max_prime_precalc = max(primes)\n",
    "\n",
    "        \n",
    "def is_prime(x):\n",
    "    if x < 2:\n",
    "        return False\n",
    "    \n",
    "    if x in primes:\n",
    "        return True\n",
    "    \n",
    "    for prime in primes:\n",
    "        if x % prime == 0:\n",
    "            return False\n",
    "    \n",
    "    if max_prime_precalc**2 > x:\n",
    "        primes.add(x)\n",
    "        return True\n",
    "    \n",
    "    for i in range(max(primes)**2, int(x**0.5) + 2):\n",
    "        if x % i == 0:\n",
    "            return False\n",
    "    \n",
    "    primes.add(x)\n",
    "    return True"
   ]
  },
  {
   "cell_type": "code",
   "execution_count": null,
   "metadata": {},
   "outputs": [],
   "source": []
  }
 ],
 "metadata": {
  "kernelspec": {
   "display_name": "Python 3",
   "language": "python",
   "name": "python3"
  },
  "language_info": {
   "codemirror_mode": {
    "name": "ipython",
    "version": 3
   },
   "file_extension": ".py",
   "mimetype": "text/x-python",
   "name": "python",
   "nbconvert_exporter": "python",
   "pygments_lexer": "ipython3",
   "version": "3.7.1"
  }
 },
 "nbformat": 4,
 "nbformat_minor": 2
}
