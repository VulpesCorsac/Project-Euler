{
 "cells": [
  {
   "cell_type": "markdown",
   "metadata": {},
   "source": [
    "## Problem 21 ##\n",
    "\n",
    "### Amicable numbers ###\n",
    "\n",
    "Let d(n) be defined as the sum of proper divisors of n (numbers less than n which divide evenly into n).\n",
    "If d(a) = b and d(b) = a, where a ≠ b, then a and b are an amicable pair and each of a and b are called amicable numbers.\n",
    "\n",
    "For example, the proper divisors of 220 are 1, 2, 4, 5, 10, 11, 20, 22, 44, 55 and 110; therefore d(220) = 284. The proper divisors of 284 are 1, 2, 4, 71 and 142; so d(284) = 220.\n",
    "\n",
    "Evaluate the sum of all the amicable numbers under 10000."
   ]
  },
  {
   "cell_type": "code",
   "execution_count": 7,
   "metadata": {},
   "outputs": [
    {
     "name": "stdout",
     "output_type": "stream",
     "text": [
      "31626\n"
     ]
    }
   ],
   "source": [
    " def divisors_sum(x):\n",
    "        ans = 0\n",
    "        for i in range(1, x):\n",
    "            if x % i == 0:\n",
    "                ans += i\n",
    "        return ans\n",
    "\n",
    "\n",
    "print(sum(divisors_sum(i) \n",
    "          for i in range(1, 10000) \n",
    "          if i == divisors_sum(divisors_sum(i)) and i != divisors_sum(i)\n",
    "         )\n",
    "     )"
   ]
  },
  {
   "cell_type": "markdown",
   "metadata": {},
   "source": [
    "## Problem 22 ##\n",
    "\n",
    "### Names scores ###\n",
    "\n",
    "Using [names.txt](https://projecteuler.net/project/resources/p022_names.txt) (right click and 'Save Link/Target As...'), a 46K text file containing over five-thousand first names, begin by sorting it into alphabetical order. Then working out the alphabetical value for each name, multiply this value by its alphabetical position in the list to obtain a name score.\n",
    "\n",
    "For example, when the list is sorted into alphabetical order, COLIN, which is worth 3 + 15 + 12 + 9 + 14 = 53, is the 938th name in the list. So, COLIN would obtain a score of 938 × 53 = 49714.\n",
    "\n",
    "What is the total of all the name scores in the file?"
   ]
  },
  {
   "cell_type": "code",
   "execution_count": 56,
   "metadata": {},
   "outputs": [
    {
     "name": "stdout",
     "output_type": "stream",
     "text": [
      "871198282\n"
     ]
    }
   ],
   "source": [
    "with open(\"p022_names.txt\") as f:\n",
    "    names = f.readlines()\n",
    "    names = names[0].split(\"\\\",\\\"\")\n",
    "    \n",
    "    names[0] = names[0][1:]\n",
    "    names[-1] = names[-1][:-1]\n",
    "\n",
    "\n",
    "print(sum((i+1) * (ord(c) - ord('A') + 1) \n",
    "          for (i, name) in enumerate(sorted(names)) \n",
    "          for c in name\n",
    "         )\n",
    "     )"
   ]
  },
  {
   "cell_type": "markdown",
   "metadata": {},
   "source": [
    "## Problem 23 ##\n",
    "\n",
    "### Non-abundant sums ###\n",
    "\n",
    "A perfect number is a number for which the sum of its proper divisors is exactly equal to the number. For example, the sum of the proper divisors of 28 would be 1 + 2 + 4 + 7 + 14 = 28, which means that 28 is a perfect number.\n",
    "\n",
    "A number n is called deficient if the sum of its proper divisors is less than n and it is called abundant if this sum exceeds n.\n",
    "\n",
    "As 12 is the smallest abundant number, 1 + 2 + 3 + 4 + 6 = 16, the smallest number that can be written as the sum of two abundant numbers is 24. By mathematical analysis, it can be shown that all integers greater than 28123 can be written as the sum of two abundant numbers. However, this upper limit cannot be reduced any further by analysis even though it is known that the greatest number that cannot be expressed as the sum of two abundant numbers is less than this limit.\n",
    "\n",
    "Find the sum of all the positive integers which cannot be written as the sum of two abundant numbers."
   ]
  },
  {
   "cell_type": "code",
   "execution_count": 62,
   "metadata": {},
   "outputs": [
    {
     "name": "stdout",
     "output_type": "stream",
     "text": [
      "4179871\n"
     ]
    }
   ],
   "source": [
    "limit = 28124\n",
    "\n",
    "\n",
    "divisorsum = [0] * limit\n",
    "for i in range(1, limit):\n",
    "    for j in range(i * 2, limit, i):\n",
    "        divisorsum[j] += i\n",
    "abundantnums = [i for (i, x) in enumerate(divisorsum) if x > i]\n",
    "\n",
    "\n",
    "expressible = [False] * limit\n",
    "for i in abundantnums:\n",
    "    for j in abundantnums:\n",
    "        if i + j < limit:\n",
    "            expressible[i + j] = True\n",
    "        else:\n",
    "            break\n",
    "\n",
    "\n",
    "print(sum(i \n",
    "          for (i, x) in enumerate(expressible) \n",
    "          if not x\n",
    "         )\n",
    "     )"
   ]
  },
  {
   "cell_type": "markdown",
   "metadata": {},
   "source": [
    "## Problem 24 ##\n",
    "\n",
    "### Lexicographic permutations ###\n",
    "\n",
    "A permutation is an ordered arrangement of objects. For example, 3124 is one possible permutation of the digits 1, 2, 3 and 4. If all of the permutations are listed numerically or alphabetically, we call it lexicographic order. The lexicographic permutations of 0, 1 and 2 are:\n",
    "\n",
    "```\n",
    "012   021   102   120   201   210\n",
    "```\n",
    "\n",
    "What is the millionth lexicographic permutation of the digits 0, 1, 2, 3, 4, 5, 6, 7, 8 and 9?"
   ]
  },
  {
   "cell_type": "code",
   "execution_count": 69,
   "metadata": {},
   "outputs": [
    {
     "name": "stdout",
     "output_type": "stream",
     "text": [
      "2783915460\n"
     ]
    }
   ],
   "source": [
    "import itertools\n",
    "\n",
    "\n",
    "print(\"\".join(str(x) \n",
    "              for x in next(itertools.islice(itertools.permutations(list(range(10))), \n",
    "                                             999999, \n",
    "                                             None\n",
    "                                            )\n",
    "                           )\n",
    "             )\n",
    "     )"
   ]
  },
  {
   "cell_type": "markdown",
   "metadata": {},
   "source": [
    "## Problem 25 ##\n",
    "\n",
    "### 1000-digit Fibonacci number ###\n",
    "\n",
    "The Fibonacci sequence is defined by the recurrence relation:\n",
    "\n",
    "Fn = Fn−1 + Fn−2, where F1 = 1 and F2 = 1.\n",
    "\n",
    "Hence the first 12 terms will be:\n",
    "```\n",
    "F1 = 1\n",
    "F2 = 1\n",
    "F3 = 2\n",
    "F4 = 3\n",
    "F5 = 5\n",
    "F6 = 8\n",
    "F7 = 13\n",
    "F8 = 21\n",
    "F9 = 34\n",
    "F10 = 55\n",
    "F11 = 89\n",
    "F12 = 144\n",
    "```\n",
    "The 12th term, F12, is the first term to contain three digits.\n",
    "\n",
    "What is the index of the first term in the Fibonacci sequence to contain 1000 digits?"
   ]
  },
  {
   "cell_type": "code",
   "execution_count": 72,
   "metadata": {},
   "outputs": [
    {
     "name": "stdout",
     "output_type": "stream",
     "text": [
      "4782\n"
     ]
    }
   ],
   "source": [
    "import itertools\n",
    "\n",
    "\n",
    "digits = 1000\n",
    "prev = 1\n",
    "cur = 0\n",
    "for i in itertools.count():\n",
    "    if len(str(cur)) > digits:\n",
    "        raise RuntimeError(\"Not found\")\n",
    "    elif len(str(cur)) == digits:\n",
    "        print(str(i))\n",
    "        break\n",
    "\n",
    "    prev, cur = cur, prev + cur"
   ]
  },
  {
   "cell_type": "markdown",
   "metadata": {},
   "source": [
    "## Problem 26 ##\n",
    "\n",
    "### Reciprocal cycles ###\n",
    "\n",
    "A unit fraction contains 1 in the numerator. The decimal representation of the unit fractions with denominators 2 to 10 are given:\n",
    "\n",
    "```\n",
    "1/2\t= \t0.5\n",
    "1/3\t= \t0.(3)\n",
    "1/4\t= \t0.25\n",
    "1/5\t= \t0.2\n",
    "1/6\t= \t0.1(6)\n",
    "1/7\t= \t0.(142857)\n",
    "1/8\t= \t0.125\n",
    "1/9\t= \t0.(1)\n",
    "1/10\t= \t0.1\n",
    "```\n",
    "\n",
    "Where 0.1(6) means 0.166666..., and has a 1-digit recurring cycle. It can be seen that 1/7 has a 6-digit recurring cycle.\n",
    "\n",
    "Find the value of d < 1000 for which 1/d contains the longest recurring cycle in its decimal fraction part. "
   ]
  },
  {
   "cell_type": "code",
   "execution_count": 84,
   "metadata": {},
   "outputs": [
    {
     "name": "stdout",
     "output_type": "stream",
     "text": [
      "983\n"
     ]
    }
   ],
   "source": [
    "import itertools\n",
    "\n",
    "\n",
    "def reciprocal_cycle_len(n):\n",
    "    seen = {}\n",
    "    x = 1\n",
    "    for i in itertools.count():\n",
    "        if x in seen:\n",
    "            return i - seen[x]\n",
    "        else:\n",
    "            seen[x] = i\n",
    "            x = x * 10 % n\n",
    "             \n",
    "                \n",
    "print(max(range(1, 1000), key=reciprocal_cycle_len))"
   ]
  },
  {
   "cell_type": "markdown",
   "metadata": {},
   "source": [
    "## Problem 27 ##\n",
    "\n",
    "### Quadratic primes ###\n",
    "\n",
    "\n",
    "Euler discovered the remarkable quadratic formula:\n",
    "\n",
    "```\n",
    "n2+n+41\n",
    "```\n",
    "\n",
    "It turns out that the formula will produce 40 primes for the consecutive integer values 0≤n≤39. However, when n=40,402+40+41=40(40+1)+41 is divisible by 41, and certainly when n=41,412+41+41 is clearly divisible by 41.\n",
    "\n",
    "The incredible formula n2−79n+1601 was discovered, which produces 80 primes for the consecutive values 0≤n≤79. The product of the coefficients, −79 and 1601, is −126479.\n",
    "\n",
    "Considering quadratics of the form:\n",
    "```\n",
    "n2+an+b, where |a|<1000 and |b|≤1000\n",
    "\n",
    "where |n| is the modulus/absolute value of n\n",
    "\n",
    "e.g. |11|=11 and |−4|=4\n",
    "```\n",
    "\n",
    "Find the product of the coefficients, a and b, for the quadratic expression that produces the maximum number of primes for consecutive values of n, starting with n=0."
   ]
  },
  {
   "cell_type": "code",
   "execution_count": 137,
   "metadata": {},
   "outputs": [
    {
     "name": "stdout",
     "output_type": "stream",
     "text": [
      "-59231\n",
      "Wall time: 4.56 s\n"
     ]
    }
   ],
   "source": [
    "#%%time\n",
    "\n",
    "primes = set()\n",
    "max_prime_precalc = 0\n",
    "\n",
    "\n",
    "# 10000000 - 2.5s on my laptop\n",
    "def precalc_primes(limit=10000000):\n",
    "    cross_limit = int(limit**0.5) + 1\n",
    "    sieve = [True] * limit\n",
    "    sieve[0] = sieve[1] = False\n",
    "    for i in range(4, limit, 2):\n",
    "        sieve[i] = False\n",
    "\n",
    "\n",
    "    for num in range(3, cross_limit, 2):\n",
    "        if sieve[num]:\n",
    "            for i in range(num**2, limit, 2*num):\n",
    "                sieve[i] = False\n",
    "    \n",
    "    for num in range(limit):\n",
    "        if (sieve[num]):\n",
    "            primes.add(num)\n",
    "\n",
    "    max_prime_precalc = max(primes)\n",
    "\n",
    "        \n",
    "def is_prime(x):\n",
    "    if x < 2:\n",
    "        return False\n",
    "    \n",
    "    if x in primes:\n",
    "        return True\n",
    "    \n",
    "    for prime in primes:\n",
    "        if x % prime == 0:\n",
    "            return False\n",
    "    \n",
    "    if max_prime_precalc**2 > x:\n",
    "        primes.add(x)\n",
    "        return True\n",
    "    \n",
    "    for i in range(max(primes)**2, int(x**0.5) + 2):\n",
    "        if x % i == 0:\n",
    "            return False\n",
    "    \n",
    "    primes.add(x)\n",
    "    return True\n",
    "    \n",
    "    \n",
    "def count_consecutive_primes(ab):\n",
    "    a, b = ab\n",
    "    for i in itertools.count():\n",
    "        n = i * i + i * a + b\n",
    "        if not is_prime(n):\n",
    "            return i\n",
    "    \n",
    "    \n",
    "precalc_primes()\n",
    "\n",
    "ans = max(((a, b) \n",
    "           for a in range(-999, 1000) \n",
    "           for b in range(1, 1001)\n",
    "          ),\n",
    "          key=count_consecutive_primes\n",
    "         )\n",
    "\n",
    "print(ans[0] * ans[1])"
   ]
  },
  {
   "cell_type": "markdown",
   "metadata": {},
   "source": [
    "## Problem 28 ##\n",
    "\n",
    "### Number spiral diagonals ###\n",
    "\n",
    "Starting with the number 1 and moving to the right in a clockwise direction a 5 by 5 spiral is formed as follows:\n",
    "\n",
    "```\n",
    "21 22 23 24 25\n",
    "20  7  8  9 10\n",
    "19  6  1  2 11\n",
    "18  5  4  3 12\n",
    "17 16 15 14 13\n",
    "```\n",
    "\n",
    "It can be verified that the sum of the numbers on the diagonals is 101.\n",
    "\n",
    "What is the sum of the numbers on the diagonals in a 1001 by 1001 spiral formed in the same way?"
   ]
  },
  {
   "cell_type": "code",
   "execution_count": 139,
   "metadata": {},
   "outputs": [
    {
     "name": "stdout",
     "output_type": "stream",
     "text": [
      "669171001\n"
     ]
    }
   ],
   "source": [
    "# top right corner = n^2, than all corners are 4n^2 - 6(n - 1) \n",
    "\n",
    "size = 1001\n",
    "ans = 1\n",
    "ans += sum(4 * i * i - 6 * (i - 1) \n",
    "           for i in range(3, size + 1, 2)\n",
    "          )\n",
    "\n",
    "\n",
    "print(ans)"
   ]
  },
  {
   "cell_type": "markdown",
   "metadata": {},
   "source": [
    "## Problem 29 ##\n",
    "\n",
    "### Txt ###\n",
    "\n",
    "Consider all integer combinations of a^b for 2 ≤ a ≤ 5 and 2 ≤ b ≤ 5:\n",
    "\n",
    "```\n",
    "2^2=4,  2^3=8,   2^4=16,  2^5=32\n",
    "3^2=9,  3^3=27,  3^4=81,  3^5=243\n",
    "4^2=16, 4^3=64,  4^4=256, 4^5=1024\n",
    "5^2=25, 5^3=125, 5^4=625, 5^5=3125\n",
    "```\n",
    "\n",
    "If they are then placed in numerical order, with any repeats removed, we get the following sequence of 15 distinct terms:\n",
    "\n",
    "4, 8, 9, 16, 25, 27, 32, 64, 81, 125, 243, 256, 625, 1024, 3125\n",
    "\n",
    "How many distinct terms are in the sequence generated by a^b for 2 ≤ a ≤ 100 and 2 ≤ b ≤ 100?"
   ]
  },
  {
   "cell_type": "code",
   "execution_count": 140,
   "metadata": {},
   "outputs": [
    {
     "name": "stdout",
     "output_type": "stream",
     "text": [
      "9183\n"
     ]
    }
   ],
   "source": [
    "print(len(set(a**b \n",
    "              for a in range(2, 101) \n",
    "              for b in range(2, 101)\n",
    "             )\n",
    "         )\n",
    "     )"
   ]
  },
  {
   "cell_type": "markdown",
   "metadata": {},
   "source": [
    "## Problem 30 ##\n",
    "\n",
    "### Digit fifth powers ###\n",
    "\n",
    "Surprisingly there are only three numbers that can be written as the sum of fourth powers of their digits:\n",
    "\n",
    "```\n",
    "1634 = 1^4 + 6^4 + 3^4 + 4^4\n",
    "8208 = 8^4 + 2^4 + 0^4 + 8^4\n",
    "9474 = 9^4 + 4^4 + 7^4 + 4^4\n",
    "```\n",
    "\n",
    "As 1 = 1^4 is not a sum it is not included.\n",
    "\n",
    "The sum of these numbers is 1634 + 8208 + 9474 = 19316.\n",
    "\n",
    "Find the sum of all the numbers that can be written as the sum of fifth powers of their digits."
   ]
  },
  {
   "cell_type": "code",
   "execution_count": 153,
   "metadata": {},
   "outputs": [
    {
     "name": "stdout",
     "output_type": "stream",
     "text": [
      "443839\n"
     ]
    }
   ],
   "source": [
    "# last i found was 194979\n",
    "\n",
    "def power_digit_sum(n, p):\n",
    "    return sum(int(c)**p \n",
    "               for c in str(n)\n",
    "              )\n",
    "        \n",
    "    \n",
    "print(sum(i \n",
    "          for i in range(2, 1000000) \n",
    "          if i == power_digit_sum(i, 5)))"
   ]
  }
 ],
 "metadata": {
  "kernelspec": {
   "display_name": "Python 3",
   "language": "python",
   "name": "python3"
  },
  "language_info": {
   "codemirror_mode": {
    "name": "ipython",
    "version": 3
   },
   "file_extension": ".py",
   "mimetype": "text/x-python",
   "name": "python",
   "nbconvert_exporter": "python",
   "pygments_lexer": "ipython3",
   "version": "3.7.1"
  }
 },
 "nbformat": 4,
 "nbformat_minor": 2
}
